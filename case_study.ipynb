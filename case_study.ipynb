{
 "cells": [
  {
   "cell_type": "markdown",
   "metadata": {},
   "source": [
    "# Introduction\n",
    "\n",
    "I want to do some NLP analysis of news headlines as an MVP to learn more about the tools involved in web scraping, and to answer some questions I have as a media consumer. The goal of this document is to scrape headlines from news sites and store them on my filesystem.\n",
    "\n",
    "# Our case study: Fox News\n",
    "\n",
    "Let's start with http://www.foxnews.com/.\n",
    "\n",
    "Here is what the Fox homepage looked like on the morning of April 21 (PST). \n",
    "\n",
    "![alt='asdf'](fox-home-20180421T0722.png \"hello\")"
   ]
  },
  {
   "cell_type": "markdown",
   "metadata": {},
   "source": [
    "***Python web-scraping:***\n",
    "\n",
    "What can we do with this in Python? From a little bit of searching, I've [found](https://gist.github.com/Vimy/2b8e8482dc119bb01c47d16327826a58) a few libraries that can help:\n",
    "- newspaper : http://newspaper.readthedocs.io/en/latest/\n",
    "- BeautifulSoup : https://www.crummy.com/software/BeautifulSoup/bs4/doc/\n",
    "- requests : http://docs.python-requests.org/en/master/\n",
    "\n",
    "`requests` is a relatively low-level library for working with HTTP requests -- i.e., working with APIs or getting raw response data such as headers, status codes, etc. I don't anticipate having to use this much.\n",
    "\n",
    "`BeautifulSoup` is a higher-level library designed to facilitate navigating an HTML parse tree -- in other words, we can use this to extract HTML elements easily.\n",
    "\n",
    "Finally, `newspaper` is a domain-specific library designed to scrape and do basic NLP analysis of online news articles, including voluminous feature extraction: authors, publication date, body text, images and other media, summary, an `NLP()` method that I need to look at, and more."
   ]
  },
  {
   "cell_type": "code",
   "execution_count": 1,
   "metadata": {},
   "outputs": [],
   "source": [
    "from bs4 import BeautifulSoup\n",
    "import requests\n",
    "\n",
    "url = 'http://www.foxnews.com/'\n",
    "resp = requests.get(url)\n",
    "soup = BeautifulSoup(resp.text, 'lxml')"
   ]
  },
  {
   "cell_type": "markdown",
   "metadata": {},
   "source": [
    "The `soup` object is a long, unformatted HTML string of the raw HTML response.\n",
    "\n",
    "Unfortunately, `soup.prettify()` doesn't work here because Fox uses mostly `<span>` (I think)."
   ]
  },
  {
   "cell_type": "markdown",
   "metadata": {},
   "source": [
    "***Scraping headlines and features:***\n",
    "\n",
    "Let's get all the articles:"
   ]
  },
  {
   "cell_type": "code",
   "execution_count": 2,
   "metadata": {},
   "outputs": [
    {
     "data": {
      "text/plain": [
       "<article class=\"article story-1\"><div class=\"m\"><a data-video-id=\"5779143448001\" href=\"http://video.foxnews.com/v/5779143448001/\"><img alt=\"Who benefits most from leak of Mueller's Trump questions?\" src=\"//a57.foxnews.com/media2.foxnews.com/BrightCove/694940094001/2018/05/02/480/270/694940094001_5779141279001_5779143448001-vs.jpg\"/></a><span class=\"pill duration\"><a class=\"pill-link\" href=\"http://video.foxnews.com/v/5779143448001/\">9:43</a></span></div><div class=\"info\"><header class=\"info-header\"><div class=\"meta\"><span class=\"eyebrow is-showpage\"><a href=\"//www.foxnews.com/shows.html\">the ingraham angle</a></span></div><h2 class=\"title\"><a href=\"http://video.foxnews.com/v/5779143448001/\">Who benefits most from leak of Mueller's Trump questions?</a></h2></header></div></article>"
      ]
     },
     "execution_count": 2,
     "metadata": {},
     "output_type": "execute_result"
    }
   ],
   "source": [
    "articles = soup.find_all(attrs={'class':'article'})\n",
    "articles[0]"
   ]
  },
  {
   "cell_type": "code",
   "execution_count": 3,
   "metadata": {},
   "outputs": [
    {
     "data": {
      "text/plain": [
       "{'headline': \"Who benefits most from leak of Mueller's Trump questions?\",\n",
       " 'url': 'http://video.foxnews.com/v/5779143448001/',\n",
       " 'spotlight': False}"
      ]
     },
     "execution_count": 3,
     "metadata": {},
     "output_type": "execute_result"
    }
   ],
   "source": [
    "testcase = articles[0]\n",
    "testcase\n",
    "\n",
    "import re\n",
    "\n",
    "def extractArticleFeatures(article):\n",
    "    res = dict()\n",
    "    \n",
    "    # Get headline\n",
    "    headline = article.find(attrs={'class':'title'}).string\n",
    "    res['headline'] = headline\n",
    "    \n",
    "    # Get URL\n",
    "    url = article.find(attrs={'class':'title'}).a['href']\n",
    "    res['url'] = url\n",
    "    \n",
    "    # Check if the article was spotlighted at the time\n",
    "    classes = []\n",
    "    p = article\n",
    "    while p.name != '[document]':\n",
    "        classes = classes + p.get('class', [None])\n",
    "        p = p.parent\n",
    "    spotlight = any(['spotlight' in cls for cls in classes if cls is not None])\n",
    "    res['spotlight'] = spotlight\n",
    "    \n",
    "    return res\n",
    "    \n",
    "extractArticleFeatures(testcase)"
   ]
  },
  {
   "cell_type": "markdown",
   "metadata": {},
   "source": [
    "Other things we could extract:\n",
    "* is_video\n",
    "* image_url\n",
    "* order in collection"
   ]
  },
  {
   "cell_type": "code",
   "execution_count": 4,
   "metadata": {},
   "outputs": [
    {
     "data": {
      "text/html": [
       "<div>\n",
       "<style scoped>\n",
       "    .dataframe tbody tr th:only-of-type {\n",
       "        vertical-align: middle;\n",
       "    }\n",
       "\n",
       "    .dataframe tbody tr th {\n",
       "        vertical-align: top;\n",
       "    }\n",
       "\n",
       "    .dataframe thead th {\n",
       "        text-align: right;\n",
       "    }\n",
       "</style>\n",
       "<table border=\"1\" class=\"dataframe\">\n",
       "  <thead>\n",
       "    <tr style=\"text-align: right;\">\n",
       "      <th></th>\n",
       "      <th>headline</th>\n",
       "      <th>spotlight</th>\n",
       "      <th>url</th>\n",
       "    </tr>\n",
       "  </thead>\n",
       "  <tbody>\n",
       "    <tr>\n",
       "      <th>0</th>\n",
       "      <td>Who benefits most from leak of Mueller's Trump...</td>\n",
       "      <td>False</td>\n",
       "      <td>http://video.foxnews.com/v/5779143448001/</td>\n",
       "    </tr>\n",
       "    <tr>\n",
       "      <th>1</th>\n",
       "      <td>Professor says he was fired for defending free...</td>\n",
       "      <td>False</td>\n",
       "      <td>http://video.foxnews.com/v/5779145414001/</td>\n",
       "    </tr>\n",
       "    <tr>\n",
       "      <th>2</th>\n",
       "      <td>Freedom Caucus members draft Rosenstein impeac...</td>\n",
       "      <td>False</td>\n",
       "      <td>http://video.foxnews.com/v/5779147449001/</td>\n",
       "    </tr>\n",
       "    <tr>\n",
       "      <th>3</th>\n",
       "      <td>Tucker: Policies Trump ran on considered evide...</td>\n",
       "      <td>False</td>\n",
       "      <td>http://video.foxnews.com/v/5779102634001/</td>\n",
       "    </tr>\n",
       "    <tr>\n",
       "      <th>4</th>\n",
       "      <td>Trump slams 'disgraceful' leak of Mueller ques...</td>\n",
       "      <td>False</td>\n",
       "      <td>http://video.foxnews.com/v/5779055244001/</td>\n",
       "    </tr>\n",
       "  </tbody>\n",
       "</table>\n",
       "</div>"
      ],
      "text/plain": [
       "                                            headline  spotlight  \\\n",
       "0  Who benefits most from leak of Mueller's Trump...      False   \n",
       "1  Professor says he was fired for defending free...      False   \n",
       "2  Freedom Caucus members draft Rosenstein impeac...      False   \n",
       "3  Tucker: Policies Trump ran on considered evide...      False   \n",
       "4  Trump slams 'disgraceful' leak of Mueller ques...      False   \n",
       "\n",
       "                                         url  \n",
       "0  http://video.foxnews.com/v/5779143448001/  \n",
       "1  http://video.foxnews.com/v/5779145414001/  \n",
       "2  http://video.foxnews.com/v/5779147449001/  \n",
       "3  http://video.foxnews.com/v/5779102634001/  \n",
       "4  http://video.foxnews.com/v/5779055244001/  "
      ]
     },
     "execution_count": 4,
     "metadata": {},
     "output_type": "execute_result"
    }
   ],
   "source": [
    "import pandas as pd\n",
    "\n",
    "articles = pd.DataFrame(list(map(extractArticleFeatures, articles)))\n",
    "articles.head()"
   ]
  },
  {
   "cell_type": "markdown",
   "metadata": {},
   "source": [
    "# Analysis\n",
    "\n",
    "Starting at 6am on April 28, I've been scraping Fox headlines every hour. I'd like to use this dataset as an opportunity to:\n",
    "\n",
    "1. Learn Python web-scraping skills\n",
    "2. Learn NLP skills\n",
    "3. Satisfy some curiosity about the media\n",
    "\n",
    "At some point, this project may develop in a couple of ways. First, it could become a predictive modeling project -- probably classification of headlines into authors or news sources, but there are other options. Second, it may become a fruitful avenue to study some questions about the media of political importance. For example, can we measure \"bias\" of a news source? I have done some background reading of Pew's work on American media consumption, which has been a good source of information about the top news outlets. In particular, I have a list of the top news sites referenced in tweets at the beginning of Trump's presidency. Since Twitter has become much more important to political conversation concurrent with Trump's election, it isn't unreasonable to think of this as a snapshot of the sources routinely used in social media conversation. The main drawback of using this list is that it relies on data from only one _pathway_ to news, namely Twitter. Twitter may differ from other social media, which may differ from other pathways generally. In fact, given that TV has still not quite been supplanted by digital information sources, it would be wise to understand that this study I am thinking about would be prospective and exploratory -- a sign of what's to come, if you will. In short, the news of the future will be online, on a news website like foxnews.com, and the people of the future will find their content (articles, videos, photoessays, etc.) by reading and clicking on headlines.\n",
    "\n",
    "Preprocessing:\n",
    "* Deduplicate headlines\n",
    "* Convert to lowercase\n",
    "* Strip punctuation\n",
    "* Stemming\n",
    "\n",
    "Questions:\n",
    "* Basic info:\n",
    "    * How many words (over time)? How many observations per word (over time)? Top words (over time)? Total observations (over time)?\n",
    "    * Can we identify entities? See [NER](https://en.wikipedia.org/wiki/Named-entity_recognition). Redo basic info above with entities as vocabulary.\n",
    "    * What parts of speech are most common? How complex is Fox's headline structure?\n",
    "    * [Can](https://www.digitalocean.com/community/tutorials/how-to-graph-word-frequency-using-matplotlib-with-python-3) we [visualize](http://archive.nytimes.com/www.nytimes.com/interactive/2011/06/10/education/commencement-speeches-graphic.html) frequencies [nicely](https://www.cs.sfu.ca/~anoop/papers/pdf/anoop_maryam-canvas-2013.pdf)? [Interactively](https://plot.ly/python/getting-started/)?\n",
    "* Analysis:\n",
    "    * Can we identify topics? (Visualize/cluster in PCA space. Hierarchical clusetering would be good.)\n",
    "    * Context [networks](https://medium.com/district-data-labs/beyond-the-word-cloud-428e3c25b59c)\n",
    "    * Article networks based on common topics. Can we identify meta-headline narratives?\n",
    "    * Is there anything interesting about quotes as context windows? Who does Fox tend to quote?\n",
    "    * Can we measure sentiment? How does sentiment correlate to entities/topics/narratives covered? Can we measure sentiment _toward_ an entity/topic?\n",
    "    * How diverse is Fox's vocabulary compard to other news sites?"
   ]
  },
  {
   "cell_type": "markdown",
   "metadata": {},
   "source": [
    "***Load and massage the data:***\n",
    "\n",
    "The data are saved each hour in a single CSV of headlines and accompanying info. I would like to collect this all into one dataframe by having two columns: the headline, and the scrape datetime, and then deduplicate based on both fields."
   ]
  },
  {
   "cell_type": "code",
   "execution_count": 264,
   "metadata": {},
   "outputs": [
    {
     "name": "stdout",
     "output_type": "stream",
     "text": [
      "(17177, 3)\n"
     ]
    },
    {
     "data": {
      "text/html": [
       "<div>\n",
       "<style scoped>\n",
       "    .dataframe tbody tr th:only-of-type {\n",
       "        vertical-align: middle;\n",
       "    }\n",
       "\n",
       "    .dataframe tbody tr th {\n",
       "        vertical-align: top;\n",
       "    }\n",
       "\n",
       "    .dataframe thead th {\n",
       "        text-align: right;\n",
       "    }\n",
       "</style>\n",
       "<table border=\"1\" class=\"dataframe\">\n",
       "  <thead>\n",
       "    <tr style=\"text-align: right;\">\n",
       "      <th></th>\n",
       "      <th>timestamp</th>\n",
       "      <th>headline</th>\n",
       "      <th>spotlight</th>\n",
       "    </tr>\n",
       "  </thead>\n",
       "  <tbody>\n",
       "    <tr>\n",
       "      <th>150</th>\n",
       "      <td>2018-04-28 06:00:00</td>\n",
       "      <td>'Golden State Killer' suspect makes first cour...</td>\n",
       "      <td>False</td>\n",
       "    </tr>\n",
       "    <tr>\n",
       "      <th>91</th>\n",
       "      <td>2018-04-28 06:00:00</td>\n",
       "      <td>'Monster' walleye fish caught in Iowa lake</td>\n",
       "      <td>False</td>\n",
       "    </tr>\n",
       "    <tr>\n",
       "      <th>115</th>\n",
       "      <td>2018-04-28 06:00:00</td>\n",
       "      <td>'Old house smell': What causes it, and how to ...</td>\n",
       "      <td>False</td>\n",
       "    </tr>\n",
       "    <tr>\n",
       "      <th>32</th>\n",
       "      <td>2018-04-28 06:00:00</td>\n",
       "      <td>1,326-pound great white shark Hilton spotted o...</td>\n",
       "      <td>False</td>\n",
       "    </tr>\n",
       "    <tr>\n",
       "      <th>93</th>\n",
       "      <td>2018-04-28 06:00:00</td>\n",
       "      <td>5 reasons to eat more wild game</td>\n",
       "      <td>False</td>\n",
       "    </tr>\n",
       "  </tbody>\n",
       "</table>\n",
       "</div>"
      ],
      "text/plain": [
       "              timestamp                                           headline  \\\n",
       "150 2018-04-28 06:00:00  'Golden State Killer' suspect makes first cour...   \n",
       "91  2018-04-28 06:00:00         'Monster' walleye fish caught in Iowa lake   \n",
       "115 2018-04-28 06:00:00  'Old house smell': What causes it, and how to ...   \n",
       "32  2018-04-28 06:00:00  1,326-pound great white shark Hilton spotted o...   \n",
       "93  2018-04-28 06:00:00                    5 reasons to eat more wild game   \n",
       "\n",
       "     spotlight  \n",
       "150      False  \n",
       "91       False  \n",
       "115      False  \n",
       "32       False  \n",
       "93       False  "
      ]
     },
     "execution_count": 264,
     "metadata": {},
     "output_type": "execute_result"
    }
   ],
   "source": [
    "ls = !ls fox/\n",
    "timestamps = [(lambda f: f[:f.find('.')])(f) for f in ls]\n",
    "dfs = [pd.read_csv('fox/' + f) for f in ls]\n",
    "for i, df in enumerate(dfs):\n",
    "    df['timestamp'] = timestamps[i]\n",
    "headlines = (pd.concat([df[['timestamp', 'headline', 'spotlight']] for df in dfs]).drop_duplicates().dropna())\n",
    "headlines.sort_values(by=['timestamp', 'headline'], inplace=True)\n",
    "headlines['timestamp'] = pd.to_datetime(headlines['timestamp'])\n",
    "print(headlines.shape)\n",
    "headlines.head()"
   ]
  },
  {
   "cell_type": "markdown",
   "metadata": {},
   "source": [
    "# Headline-level analysis"
   ]
  },
  {
   "cell_type": "code",
   "execution_count": 265,
   "metadata": {},
   "outputs": [
    {
     "name": "stdout",
     "output_type": "stream",
     "text": [
      "17177\n",
      "1578\n"
     ]
    }
   ],
   "source": [
    "print(headlines.shape[0])\n",
    "print(headlines['headline'].unique().shape[0])"
   ]
  },
  {
   "cell_type": "markdown",
   "metadata": {},
   "source": [
    "There are 16,272 observations, but only 1,425 unique headlines. Let's look at headline uptime."
   ]
  },
  {
   "cell_type": "markdown",
   "metadata": {},
   "source": [
    "***Headline uptime and churn:***\n",
    "\n",
    "The dataframe below has one column per headline and one row per hour. The cell value is 1 if the headline was on the Fox News website at that time."
   ]
  },
  {
   "cell_type": "code",
   "execution_count": 266,
   "metadata": {},
   "outputs": [
    {
     "data": {
      "text/html": [
       "<div>\n",
       "<style scoped>\n",
       "    .dataframe tbody tr th:only-of-type {\n",
       "        vertical-align: middle;\n",
       "    }\n",
       "\n",
       "    .dataframe tbody tr th {\n",
       "        vertical-align: top;\n",
       "    }\n",
       "\n",
       "    .dataframe thead th {\n",
       "        text-align: right;\n",
       "    }\n",
       "</style>\n",
       "<table border=\"1\" class=\"dataframe\">\n",
       "  <thead>\n",
       "    <tr style=\"text-align: right;\">\n",
       "      <th>headline</th>\n",
       "      <th>'A teachable moment': Veterans talk to teens who defaced American flag</th>\n",
       "      <th>'Avengers' star says WWE stopped speaking to him about getting back in the ring</th>\n",
       "      <th>'Avengers' star says WWE stopped taking his calls about getting back in the ring</th>\n",
       "      <th>'Avengers' star slams 'cleavage corset' costume, would like to 'cover up a bit'</th>\n",
       "      <th>'Avengers: Infinity War' dominates box office</th>\n",
       "      <th>'Avengers: Infinity War' topples 'Star Wars' for best box office opening ever</th>\n",
       "      <th>'Big Bang Theory' cast member Kaley Cuoco shares heartfelt birthday tributes to co-stars</th>\n",
       "      <th>'Can you hear me now?' Verizon guy recalls financial struggles: 'I never felt secure'</th>\n",
       "      <th>'Caravan of migrants' arrives at US border</th>\n",
       "      <th>'Clear History' privacy tool announced ahead of Facebook's F8 conference</th>\n",
       "      <th>...</th>\n",
       "      <th>Yellowstone geyser erupts for 3rd time in 6 weeks</th>\n",
       "      <th>YouTube Vlogger hit by tractor trailer while livestreaming from driver's seat</th>\n",
       "      <th>YouTube star hit by tractor trailer while livestreaming</th>\n",
       "      <th>YouTube, dealing with advertiser uproar, defends controversial cleric's videos</th>\n",
       "      <th>Young cop shot dead while he sat inside home with his daughter</th>\n",
       "      <th>Young off-duty cop shot dead while he sat inside home with his daughter</th>\n",
       "      <th>‘Avengers: Infinity War’ poised for China box office record: IMAX CEO</th>\n",
       "      <th>‘I am Jack the Ripper’: Chilling postcard up for auction</th>\n",
       "      <th>‘Sisterhood of the Traveling Pants 3’ pitched by cast members</th>\n",
       "      <th>‘Southern Charm’ star accused of rape</th>\n",
       "    </tr>\n",
       "    <tr>\n",
       "      <th>timestamp</th>\n",
       "      <th></th>\n",
       "      <th></th>\n",
       "      <th></th>\n",
       "      <th></th>\n",
       "      <th></th>\n",
       "      <th></th>\n",
       "      <th></th>\n",
       "      <th></th>\n",
       "      <th></th>\n",
       "      <th></th>\n",
       "      <th></th>\n",
       "      <th></th>\n",
       "      <th></th>\n",
       "      <th></th>\n",
       "      <th></th>\n",
       "      <th></th>\n",
       "      <th></th>\n",
       "      <th></th>\n",
       "      <th></th>\n",
       "      <th></th>\n",
       "      <th></th>\n",
       "    </tr>\n",
       "  </thead>\n",
       "  <tbody>\n",
       "    <tr>\n",
       "      <th>2018-04-28 06:00:00</th>\n",
       "      <td>NaN</td>\n",
       "      <td>NaN</td>\n",
       "      <td>NaN</td>\n",
       "      <td>NaN</td>\n",
       "      <td>NaN</td>\n",
       "      <td>NaN</td>\n",
       "      <td>NaN</td>\n",
       "      <td>NaN</td>\n",
       "      <td>NaN</td>\n",
       "      <td>NaN</td>\n",
       "      <td>...</td>\n",
       "      <td>NaN</td>\n",
       "      <td>NaN</td>\n",
       "      <td>NaN</td>\n",
       "      <td>1.0</td>\n",
       "      <td>NaN</td>\n",
       "      <td>NaN</td>\n",
       "      <td>NaN</td>\n",
       "      <td>NaN</td>\n",
       "      <td>1.0</td>\n",
       "      <td>NaN</td>\n",
       "    </tr>\n",
       "  </tbody>\n",
       "</table>\n",
       "<p>1 rows × 1578 columns</p>\n",
       "</div>"
      ],
      "text/plain": [
       "headline             'A teachable moment': Veterans talk to teens who defaced American flag  \\\n",
       "timestamp                                                                                     \n",
       "2018-04-28 06:00:00                                                NaN                        \n",
       "\n",
       "headline             'Avengers' star says WWE stopped speaking to him about getting back in the ring  \\\n",
       "timestamp                                                                                              \n",
       "2018-04-28 06:00:00                                                NaN                                 \n",
       "\n",
       "headline             'Avengers' star says WWE stopped taking his calls about getting back in the ring  \\\n",
       "timestamp                                                                                               \n",
       "2018-04-28 06:00:00                                                NaN                                  \n",
       "\n",
       "headline             'Avengers' star slams 'cleavage corset' costume, would like to 'cover up a bit'  \\\n",
       "timestamp                                                                                              \n",
       "2018-04-28 06:00:00                                                NaN                                 \n",
       "\n",
       "headline             'Avengers: Infinity War' dominates box office  \\\n",
       "timestamp                                                            \n",
       "2018-04-28 06:00:00                                            NaN   \n",
       "\n",
       "headline             'Avengers: Infinity War' topples 'Star Wars' for best box office opening ever  \\\n",
       "timestamp                                                                                            \n",
       "2018-04-28 06:00:00                                                NaN                               \n",
       "\n",
       "headline             'Big Bang Theory' cast member Kaley Cuoco shares heartfelt birthday tributes to co-stars  \\\n",
       "timestamp                                                                                                       \n",
       "2018-04-28 06:00:00                                                NaN                                          \n",
       "\n",
       "headline             'Can you hear me now?' Verizon guy recalls financial struggles: 'I never felt secure'  \\\n",
       "timestamp                                                                                                    \n",
       "2018-04-28 06:00:00                                                NaN                                       \n",
       "\n",
       "headline             'Caravan of migrants' arrives at US border  \\\n",
       "timestamp                                                         \n",
       "2018-04-28 06:00:00                                         NaN   \n",
       "\n",
       "headline             'Clear History' privacy tool announced ahead of Facebook's F8 conference  \\\n",
       "timestamp                                                                                       \n",
       "2018-04-28 06:00:00                                                NaN                          \n",
       "\n",
       "headline                             ...                    \\\n",
       "timestamp                            ...                     \n",
       "2018-04-28 06:00:00                  ...                     \n",
       "\n",
       "headline             Yellowstone geyser erupts for 3rd time in 6 weeks  \\\n",
       "timestamp                                                                \n",
       "2018-04-28 06:00:00                                                NaN   \n",
       "\n",
       "headline             YouTube Vlogger hit by tractor trailer while livestreaming from driver's seat  \\\n",
       "timestamp                                                                                            \n",
       "2018-04-28 06:00:00                                                NaN                               \n",
       "\n",
       "headline             YouTube star hit by tractor trailer while livestreaming  \\\n",
       "timestamp                                                                      \n",
       "2018-04-28 06:00:00                                                NaN         \n",
       "\n",
       "headline             YouTube, dealing with advertiser uproar, defends controversial cleric's videos  \\\n",
       "timestamp                                                                                             \n",
       "2018-04-28 06:00:00                                                1.0                                \n",
       "\n",
       "headline             Young cop shot dead while he sat inside home with his daughter  \\\n",
       "timestamp                                                                             \n",
       "2018-04-28 06:00:00                                                NaN                \n",
       "\n",
       "headline             Young off-duty cop shot dead while he sat inside home with his daughter  \\\n",
       "timestamp                                                                                      \n",
       "2018-04-28 06:00:00                                                NaN                         \n",
       "\n",
       "headline             ‘Avengers: Infinity War’ poised for China box office record: IMAX CEO  \\\n",
       "timestamp                                                                                    \n",
       "2018-04-28 06:00:00                                                NaN                       \n",
       "\n",
       "headline             ‘I am Jack the Ripper’: Chilling postcard up for auction  \\\n",
       "timestamp                                                                       \n",
       "2018-04-28 06:00:00                                                NaN          \n",
       "\n",
       "headline             ‘Sisterhood of the Traveling Pants 3’ pitched by cast members  \\\n",
       "timestamp                                                                            \n",
       "2018-04-28 06:00:00                                                1.0               \n",
       "\n",
       "headline             ‘Southern Charm’ star accused of rape  \n",
       "timestamp                                                   \n",
       "2018-04-28 06:00:00                                    NaN  \n",
       "\n",
       "[1 rows x 1578 columns]"
      ]
     },
     "execution_count": 266,
     "metadata": {},
     "output_type": "execute_result"
    }
   ],
   "source": [
    "overtime = headlines.groupby(['timestamp', 'headline']).apply(lambda grp: len(grp) > 0).astype(int).unstack()\n",
    "overtime.head(1)"
   ]
  },
  {
   "cell_type": "code",
   "execution_count": 267,
   "metadata": {},
   "outputs": [
    {
     "data": {
      "text/plain": [
       "(95, 1578)"
      ]
     },
     "execution_count": 267,
     "metadata": {},
     "output_type": "execute_result"
    }
   ],
   "source": [
    "overtime.shape"
   ]
  },
  {
   "cell_type": "markdown",
   "metadata": {},
   "source": [
    "We have 90 hours of observations for 1,425 headlines."
   ]
  },
  {
   "cell_type": "code",
   "execution_count": 268,
   "metadata": {},
   "outputs": [],
   "source": [
    "import seaborn as sns\n",
    "import matplotlib.pyplot as plt\n",
    "%matplotlib inline"
   ]
  },
  {
   "cell_type": "markdown",
   "metadata": {},
   "source": [
    "Spotlighted headlines:"
   ]
  },
  {
   "cell_type": "code",
   "execution_count": 269,
   "metadata": {},
   "outputs": [],
   "source": [
    "spotlight = headlines.loc[headlines['spotlight'], ['timestamp', 'headline']].groupby(['timestamp', 'headline']).apply(lambda grp: len(grp) > 0).astype(int).unstack()"
   ]
  },
  {
   "cell_type": "code",
   "execution_count": 270,
   "metadata": {},
   "outputs": [
    {
     "name": "stderr",
     "output_type": "stream",
     "text": [
      "C:\\Anaconda3\\envs\\media\\lib\\site-packages\\matplotlib\\axes\\_axes.py:6462: UserWarning: The 'normed' kwarg is deprecated, and has been replaced by the 'density' kwarg.\n",
      "  warnings.warn(\"The 'normed' kwarg is deprecated, and has been \"\n"
     ]
    },
    {
     "data": {
      "image/png": "[encoded data removed]",
      "text/plain": [
       "<Figure size 720x360 with 4 Axes>"
      ]
     },
     "metadata": {},
     "output_type": "display_data"
    }
   ],
   "source": [
    "f, axarr = plt.subplots(4, 1, sharex=True, figsize=(10,5))\n",
    "\n",
    "sns.boxplot(overtime.sum(), ax=axarr[0])\n",
    "axarr[0].set(title='Boxplot', xlabel='Hours')\n",
    "\n",
    "sns.distplot(overtime.sum(), ax=axarr[1])\n",
    "axarr[1].set(title='KDE plot', xlabel='Hours')\n",
    "\n",
    "sns.boxplot(spotlight.sum(), ax=axarr[2])\n",
    "axarr[2].set(title='Boxplot (spotlight)', xlabel='Hours')\n",
    "\n",
    "sns.distplot(spotlight.sum(), ax=axarr[3])\n",
    "axarr[3].set(title='KDE plot (spotlight)', xlabel='Hours')\n",
    "\n",
    "f.suptitle('Distribution of headline uptime', size=15)\n",
    "\n",
    "plt.tight_layout(rect=[0,0,1,0.95])"
   ]
  },
  {
   "cell_type": "code",
   "execution_count": 271,
   "metadata": {},
   "outputs": [
    {
     "data": {
      "text/plain": [
       "count    1578.000000\n",
       "mean       10.874525\n",
       "std        17.657295\n",
       "min         1.000000\n",
       "25%         2.000000\n",
       "50%         4.000000\n",
       "75%        11.000000\n",
       "max        95.000000\n",
       "dtype: float64"
      ]
     },
     "execution_count": 271,
     "metadata": {},
     "output_type": "execute_result"
    }
   ],
   "source": [
    "overtime.sum().describe()"
   ]
  },
  {
   "cell_type": "code",
   "execution_count": 272,
   "metadata": {},
   "outputs": [
    {
     "data": {
      "text/plain": [
       "count    170.000000\n",
       "mean       2.782353\n",
       "std        1.962590\n",
       "min        1.000000\n",
       "25%        1.000000\n",
       "50%        2.000000\n",
       "75%        4.000000\n",
       "max       11.000000\n",
       "dtype: float64"
      ]
     },
     "execution_count": 272,
     "metadata": {},
     "output_type": "execute_result"
    }
   ],
   "source": [
    "spotlight.sum().describe()"
   ]
  },
  {
   "cell_type": "code",
   "execution_count": 273,
   "metadata": {},
   "outputs": [
    {
     "data": {
      "image/png": "[encoded data removed]",
      "text/plain": [
       "<Figure size 432x288 with 1 Axes>"
      ]
     },
     "metadata": {},
     "output_type": "display_data"
    }
   ],
   "source": [
    "def cdf(series, title='uptime'):\n",
    "    overtime = series\n",
    "    srs = overtime.sum()\n",
    "    ax = srs.value_counts().sort_index().div(srs.value_counts().sum()).cumsum().plot(title='CDF of {}'.format(title))\n",
    "    ax.set(ylim=[0.5,1.005])\n",
    "    plt.tight_layout()\n",
    "\n",
    "cdf(overtime)"
   ]
  },
  {
   "cell_type": "code",
   "execution_count": 274,
   "metadata": {},
   "outputs": [
    {
     "data": {
      "image/png": "[encoded data removed]",
      "text/plain": [
       "<Figure size 432x288 with 1 Axes>"
      ]
     },
     "metadata": {},
     "output_type": "display_data"
    }
   ],
   "source": [
    "cdf(spotlight, title='CDF of uptime (spotlight)')"
   ]
  },
  {
   "cell_type": "markdown",
   "metadata": {},
   "source": [
    "Gini coefficients:"
   ]
  },
  {
   "cell_type": "code",
   "execution_count": 275,
   "metadata": {},
   "outputs": [
    {
     "data": {
      "image/png": "[encoded data removed]",
      "text/plain": [
       "<Figure size 432x288 with 2 Axes>"
      ]
     },
     "metadata": {},
     "output_type": "display_data"
    }
   ],
   "source": [
    "f, axarr = plt.subplots(1, 2, sharey=True)\n",
    "\n",
    "cdf = overtime.sum().sort_values().div(overtime.sum().sum()).cumsum().reset_index(drop=True)\n",
    "degree45 = pd.Series([(1 / cdf.shape[0]) * (i + 1) for i in range(len(cdf))]).reset_index(drop=True)\n",
    "A = (degree45 - cdf).sum()\n",
    "B = cdf.sum()\n",
    "gini = A / (A + B)\n",
    "overtime.sum().sort_values().div(overtime.sum().sum()).cumsum().reset_index(drop=True).plot(title='all \\n{}'.format(gini), ax=axarr[0])\n",
    "degree45.plot(ax=axarr[0])\n",
    "\n",
    "cdf = spotlight.sum().sort_values().div(spotlight.sum().sum()).cumsum().reset_index(drop=True)\n",
    "degree45 = pd.Series([(1 / cdf.shape[0]) * (i + 1) for i in range(len(cdf))]).reset_index(drop=True)\n",
    "A = (degree45 - cdf).sum()\n",
    "B = cdf.sum()\n",
    "gini = A / (A + B)\n",
    "spotlight.sum().sort_values().div(spotlight.sum().sum()).cumsum().reset_index(drop=True).plot(title='spotlight \\n{}'.format(gini), ax=axarr[1])\n",
    "degree45.plot(ax=axarr[1])\n",
    "\n",
    "plt.tight_layout()"
   ]
  },
  {
   "cell_type": "markdown",
   "metadata": {},
   "source": [
    "Some headlines have run much longer than others, but most are replaced in 12 hours or less, and almost all within a day. This indicates high churn, perhaps reflecting the chaotic online news cycle that has no doubt been exacerbated by the Trump administration. The 90-hour headlines are mostly lower vertically on the site and are lower-quality lifestyle pieces. The spotlight is prime real estate, reserved for the most newsworthy headlines which, in turn, churn much faster. A typical spotlight headline only lasts less than 6 hours!"
   ]
  },
  {
   "cell_type": "code",
   "execution_count": null,
   "metadata": {},
   "outputs": [],
   "source": []
  }
 ],
 "metadata": {
  "kernelspec": {
   "display_name": "Python 3",
   "language": "python",
   "name": "python3"
  },
  "language_info": {
   "codemirror_mode": {
    "name": "ipython",
    "version": 3
   },
   "file_extension": ".py",
   "mimetype": "text/x-python",
   "name": "python",
   "nbconvert_exporter": "python",
   "pygments_lexer": "ipython3",
   "version": "3.6.5"
  }
 },
 "nbformat": 4,
 "nbformat_minor": 2
}
