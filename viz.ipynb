{
 "cells": [
  {
   "cell_type": "code",
   "execution_count": 7,
   "metadata": {},
   "outputs": [],
   "source": [
    "import os\n",
    "import pandas as pd\n",
    "from sqlalchemy import create_engine\n",
    "\n",
    "db_url = os.environ['DATABASE_URL']\n",
    "df = pd.read_sql_query('SELECT * FROM headlines;', create_engine(db_url), index_col='index')"
   ]
  },
  {
   "cell_type": "code",
   "execution_count": 8,
   "metadata": {},
   "outputs": [
    {
     "data": {
      "text/plain": [
       "(426, 4)"
      ]
     },
     "execution_count": 8,
     "metadata": {},
     "output_type": "execute_result"
    }
   ],
   "source": [
    "df.shape"
   ]
  },
  {
   "cell_type": "code",
   "execution_count": 9,
   "metadata": {},
   "outputs": [
    {
     "data": {
      "text/html": [
       "<div>\n",
       "<style scoped>\n",
       "    .dataframe tbody tr th:only-of-type {\n",
       "        vertical-align: middle;\n",
       "    }\n",
       "\n",
       "    .dataframe tbody tr th {\n",
       "        vertical-align: top;\n",
       "    }\n",
       "\n",
       "    .dataframe thead th {\n",
       "        text-align: right;\n",
       "    }\n",
       "</style>\n",
       "<table border=\"1\" class=\"dataframe\">\n",
       "  <thead>\n",
       "    <tr style=\"text-align: right;\">\n",
       "      <th></th>\n",
       "      <th>headline</th>\n",
       "      <th>url</th>\n",
       "      <th>pub</th>\n",
       "      <th>timestamp</th>\n",
       "    </tr>\n",
       "    <tr>\n",
       "      <th>index</th>\n",
       "      <th></th>\n",
       "      <th></th>\n",
       "      <th></th>\n",
       "      <th></th>\n",
       "    </tr>\n",
       "  </thead>\n",
       "  <tbody>\n",
       "    <tr>\n",
       "      <th>0</th>\n",
       "      <td>As China Plans Big Concessions on Trade, Some ...</td>\n",
       "      <td>https://www.nytimes.com/2018/05/17/us/politics...</td>\n",
       "      <td>nyt</td>\n",
       "      <td>20180517T1903</td>\n",
       "    </tr>\n",
       "    <tr>\n",
       "      <th>1</th>\n",
       "      <td>China, Signaling Thaw With U.S. Over Trade, Ap...</td>\n",
       "      <td>https://www.nytimes.com/2018/05/17/business/de...</td>\n",
       "      <td>nyt</td>\n",
       "      <td>20180517T1903</td>\n",
       "    </tr>\n",
       "    <tr>\n",
       "      <th>2</th>\n",
       "      <td>Qatar-Linked Firm Nears Deal to Bail Out Kushn...</td>\n",
       "      <td>https://www.nytimes.com/2018/05/17/nyregion/ku...</td>\n",
       "      <td>nyt</td>\n",
       "      <td>20180517T1903</td>\n",
       "    </tr>\n",
       "    <tr>\n",
       "      <th>3</th>\n",
       "      <td>Filing Shows Trump Paid Cohen, Who Paid Stormy...</td>\n",
       "      <td>https://www.nytimes.com/2018/05/16/us/politics...</td>\n",
       "      <td>nyt</td>\n",
       "      <td>20180517T1903</td>\n",
       "    </tr>\n",
       "    <tr>\n",
       "      <th>4</th>\n",
       "      <td>Trump Rants, Calling Some Unauthorized Immigra...</td>\n",
       "      <td>https://www.nytimes.com/2018/05/16/us/politics...</td>\n",
       "      <td>nyt</td>\n",
       "      <td>20180517T1903</td>\n",
       "    </tr>\n",
       "  </tbody>\n",
       "</table>\n",
       "</div>"
      ],
      "text/plain": [
       "                                                headline  \\\n",
       "index                                                      \n",
       "0      As China Plans Big Concessions on Trade, Some ...   \n",
       "1      China, Signaling Thaw With U.S. Over Trade, Ap...   \n",
       "2      Qatar-Linked Firm Nears Deal to Bail Out Kushn...   \n",
       "3      Filing Shows Trump Paid Cohen, Who Paid Stormy...   \n",
       "4      Trump Rants, Calling Some Unauthorized Immigra...   \n",
       "\n",
       "                                                     url  pub      timestamp  \n",
       "index                                                                         \n",
       "0      https://www.nytimes.com/2018/05/17/us/politics...  nyt  20180517T1903  \n",
       "1      https://www.nytimes.com/2018/05/17/business/de...  nyt  20180517T1903  \n",
       "2      https://www.nytimes.com/2018/05/17/nyregion/ku...  nyt  20180517T1903  \n",
       "3      https://www.nytimes.com/2018/05/16/us/politics...  nyt  20180517T1903  \n",
       "4      https://www.nytimes.com/2018/05/16/us/politics...  nyt  20180517T1903  "
      ]
     },
     "execution_count": 9,
     "metadata": {},
     "output_type": "execute_result"
    }
   ],
   "source": [
    "df.head()"
   ]
  },
  {
   "cell_type": "code",
   "execution_count": 10,
   "metadata": {},
   "outputs": [
    {
     "data": {
      "text/html": [
       "<div>\n",
       "<style scoped>\n",
       "    .dataframe tbody tr th:only-of-type {\n",
       "        vertical-align: middle;\n",
       "    }\n",
       "\n",
       "    .dataframe tbody tr th {\n",
       "        vertical-align: top;\n",
       "    }\n",
       "\n",
       "    .dataframe thead th {\n",
       "        text-align: right;\n",
       "    }\n",
       "</style>\n",
       "<table border=\"1\" class=\"dataframe\">\n",
       "  <thead>\n",
       "    <tr style=\"text-align: right;\">\n",
       "      <th></th>\n",
       "      <th>headline</th>\n",
       "      <th>url</th>\n",
       "      <th>pub</th>\n",
       "      <th>timestamp</th>\n",
       "    </tr>\n",
       "    <tr>\n",
       "      <th>index</th>\n",
       "      <th></th>\n",
       "      <th></th>\n",
       "      <th></th>\n",
       "      <th></th>\n",
       "    </tr>\n",
       "  </thead>\n",
       "  <tbody>\n",
       "    <tr>\n",
       "      <th>4</th>\n",
       "      <td>White House: If North Korea wants to meet, we'...</td>\n",
       "      <td>http://video.foxnews.com/v/5786203682001/</td>\n",
       "      <td>fox</td>\n",
       "      <td>20180517T1903</td>\n",
       "    </tr>\n",
       "    <tr>\n",
       "      <th>67</th>\n",
       "      <td>White House: If North Korea wants to meet, we'...</td>\n",
       "      <td>//video.foxnews.com/v/5786203682001/?playlist_...</td>\n",
       "      <td>fox</td>\n",
       "      <td>20180517T1903</td>\n",
       "    </tr>\n",
       "    <tr>\n",
       "      <th>160</th>\n",
       "      <td>White House: If North Korea wants to meet, we'...</td>\n",
       "      <td>//video.foxnews.com/v/5786203682001/</td>\n",
       "      <td>fox</td>\n",
       "      <td>20180517T1903</td>\n",
       "    </tr>\n",
       "  </tbody>\n",
       "</table>\n",
       "</div>"
      ],
      "text/plain": [
       "                                                headline  \\\n",
       "index                                                      \n",
       "4      White House: If North Korea wants to meet, we'...   \n",
       "67     White House: If North Korea wants to meet, we'...   \n",
       "160    White House: If North Korea wants to meet, we'...   \n",
       "\n",
       "                                                     url  pub      timestamp  \n",
       "index                                                                         \n",
       "4              http://video.foxnews.com/v/5786203682001/  fox  20180517T1903  \n",
       "67     //video.foxnews.com/v/5786203682001/?playlist_...  fox  20180517T1903  \n",
       "160                 //video.foxnews.com/v/5786203682001/  fox  20180517T1903  "
      ]
     },
     "execution_count": 10,
     "metadata": {},
     "output_type": "execute_result"
    }
   ],
   "source": [
    "df.loc[df['headline'] == df['headline'].value_counts().head(1).index.values[0]]"
   ]
  },
  {
   "cell_type": "code",
   "execution_count": 234,
   "metadata": {},
   "outputs": [
    {
     "data": {
      "text/html": [
       "<div>\n",
       "<style scoped>\n",
       "    .dataframe tbody tr th:only-of-type {\n",
       "        vertical-align: middle;\n",
       "    }\n",
       "\n",
       "    .dataframe tbody tr th {\n",
       "        vertical-align: top;\n",
       "    }\n",
       "\n",
       "    .dataframe thead th {\n",
       "        text-align: right;\n",
       "    }\n",
       "</style>\n",
       "<table border=\"1\" class=\"dataframe\">\n",
       "  <thead>\n",
       "    <tr style=\"text-align: right;\">\n",
       "      <th></th>\n",
       "      <th>headline</th>\n",
       "      <th>pub</th>\n",
       "    </tr>\n",
       "  </thead>\n",
       "  <tbody>\n",
       "    <tr>\n",
       "      <th>0</th>\n",
       "      <td>As China Plans Big Concessions on Trade, Some ...</td>\n",
       "      <td>nyt</td>\n",
       "    </tr>\n",
       "    <tr>\n",
       "      <th>1</th>\n",
       "      <td>China, Signaling Thaw With U.S. Over Trade, Ap...</td>\n",
       "      <td>nyt</td>\n",
       "    </tr>\n",
       "    <tr>\n",
       "      <th>2</th>\n",
       "      <td>Qatar-Linked Firm Nears Deal to Bail Out Kushn...</td>\n",
       "      <td>nyt</td>\n",
       "    </tr>\n",
       "    <tr>\n",
       "      <th>3</th>\n",
       "      <td>Filing Shows Trump Paid Cohen, Who Paid Stormy...</td>\n",
       "      <td>nyt</td>\n",
       "    </tr>\n",
       "    <tr>\n",
       "      <th>4</th>\n",
       "      <td>Trump Rants, Calling Some Unauthorized Immigra...</td>\n",
       "      <td>nyt</td>\n",
       "    </tr>\n",
       "  </tbody>\n",
       "</table>\n",
       "</div>"
      ],
      "text/plain": [
       "                                            headline  pub\n",
       "0  As China Plans Big Concessions on Trade, Some ...  nyt\n",
       "1  China, Signaling Thaw With U.S. Over Trade, Ap...  nyt\n",
       "2  Qatar-Linked Firm Nears Deal to Bail Out Kushn...  nyt\n",
       "3  Filing Shows Trump Paid Cohen, Who Paid Stormy...  nyt\n",
       "4  Trump Rants, Calling Some Unauthorized Immigra...  nyt"
      ]
     },
     "execution_count": 234,
     "metadata": {},
     "output_type": "execute_result"
    }
   ],
   "source": [
    "headlines = df[['headline', 'pub']].drop_duplicates()\n",
    "headlines.index = range(len(headlines))\n",
    "headlines.head()"
   ]
  },
  {
   "cell_type": "code",
   "execution_count": 235,
   "metadata": {},
   "outputs": [
    {
     "data": {
      "text/html": [
       "<div>\n",
       "<style scoped>\n",
       "    .dataframe tbody tr th:only-of-type {\n",
       "        vertical-align: middle;\n",
       "    }\n",
       "\n",
       "    .dataframe tbody tr th {\n",
       "        vertical-align: top;\n",
       "    }\n",
       "\n",
       "    .dataframe thead th {\n",
       "        text-align: right;\n",
       "    }\n",
       "</style>\n",
       "<table border=\"1\" class=\"dataframe\">\n",
       "  <thead>\n",
       "    <tr style=\"text-align: right;\">\n",
       "      <th></th>\n",
       "      <th>000</th>\n",
       "      <th>000 feet</th>\n",
       "      <th>000 feet sky</th>\n",
       "      <th>000 feet worst</th>\n",
       "      <th>000 homes</th>\n",
       "      <th>000 homes missouri</th>\n",
       "      <th>000 workers</th>\n",
       "      <th>07</th>\n",
       "      <th>07 pm</th>\n",
       "      <th>07 pm et</th>\n",
       "      <th>...</th>\n",
       "      <th>young educated</th>\n",
       "      <th>young educated workers</th>\n",
       "      <th>youth venezuela</th>\n",
       "      <th>youth venezuela amid</th>\n",
       "      <th>youtub</th>\n",
       "      <th>youtube launches</th>\n",
       "      <th>youtube launches new</th>\n",
       "      <th>zuckerberg</th>\n",
       "      <th>zuckerberg meet</th>\n",
       "      <th>zuckerberg meet european</th>\n",
       "    </tr>\n",
       "  </thead>\n",
       "  <tbody>\n",
       "    <tr>\n",
       "      <th>0</th>\n",
       "      <td>0</td>\n",
       "      <td>0</td>\n",
       "      <td>0</td>\n",
       "      <td>0</td>\n",
       "      <td>0</td>\n",
       "      <td>0</td>\n",
       "      <td>0</td>\n",
       "      <td>0</td>\n",
       "      <td>0</td>\n",
       "      <td>0</td>\n",
       "      <td>...</td>\n",
       "      <td>0</td>\n",
       "      <td>0</td>\n",
       "      <td>0</td>\n",
       "      <td>0</td>\n",
       "      <td>0</td>\n",
       "      <td>0</td>\n",
       "      <td>0</td>\n",
       "      <td>0</td>\n",
       "      <td>0</td>\n",
       "      <td>0</td>\n",
       "    </tr>\n",
       "    <tr>\n",
       "      <th>1</th>\n",
       "      <td>0</td>\n",
       "      <td>0</td>\n",
       "      <td>0</td>\n",
       "      <td>0</td>\n",
       "      <td>0</td>\n",
       "      <td>0</td>\n",
       "      <td>0</td>\n",
       "      <td>0</td>\n",
       "      <td>0</td>\n",
       "      <td>0</td>\n",
       "      <td>...</td>\n",
       "      <td>0</td>\n",
       "      <td>0</td>\n",
       "      <td>0</td>\n",
       "      <td>0</td>\n",
       "      <td>0</td>\n",
       "      <td>0</td>\n",
       "      <td>0</td>\n",
       "      <td>0</td>\n",
       "      <td>0</td>\n",
       "      <td>0</td>\n",
       "    </tr>\n",
       "    <tr>\n",
       "      <th>2</th>\n",
       "      <td>0</td>\n",
       "      <td>0</td>\n",
       "      <td>0</td>\n",
       "      <td>0</td>\n",
       "      <td>0</td>\n",
       "      <td>0</td>\n",
       "      <td>0</td>\n",
       "      <td>0</td>\n",
       "      <td>0</td>\n",
       "      <td>0</td>\n",
       "      <td>...</td>\n",
       "      <td>0</td>\n",
       "      <td>0</td>\n",
       "      <td>0</td>\n",
       "      <td>0</td>\n",
       "      <td>0</td>\n",
       "      <td>0</td>\n",
       "      <td>0</td>\n",
       "      <td>0</td>\n",
       "      <td>0</td>\n",
       "      <td>0</td>\n",
       "    </tr>\n",
       "    <tr>\n",
       "      <th>3</th>\n",
       "      <td>0</td>\n",
       "      <td>0</td>\n",
       "      <td>0</td>\n",
       "      <td>0</td>\n",
       "      <td>0</td>\n",
       "      <td>0</td>\n",
       "      <td>0</td>\n",
       "      <td>0</td>\n",
       "      <td>0</td>\n",
       "      <td>0</td>\n",
       "      <td>...</td>\n",
       "      <td>0</td>\n",
       "      <td>0</td>\n",
       "      <td>0</td>\n",
       "      <td>0</td>\n",
       "      <td>0</td>\n",
       "      <td>0</td>\n",
       "      <td>0</td>\n",
       "      <td>0</td>\n",
       "      <td>0</td>\n",
       "      <td>0</td>\n",
       "    </tr>\n",
       "    <tr>\n",
       "      <th>4</th>\n",
       "      <td>0</td>\n",
       "      <td>0</td>\n",
       "      <td>0</td>\n",
       "      <td>0</td>\n",
       "      <td>0</td>\n",
       "      <td>0</td>\n",
       "      <td>0</td>\n",
       "      <td>0</td>\n",
       "      <td>0</td>\n",
       "      <td>0</td>\n",
       "      <td>...</td>\n",
       "      <td>0</td>\n",
       "      <td>0</td>\n",
       "      <td>0</td>\n",
       "      <td>0</td>\n",
       "      <td>0</td>\n",
       "      <td>0</td>\n",
       "      <td>0</td>\n",
       "      <td>0</td>\n",
       "      <td>0</td>\n",
       "      <td>0</td>\n",
       "    </tr>\n",
       "  </tbody>\n",
       "</table>\n",
       "<p>5 rows × 5987 columns</p>\n",
       "</div>"
      ],
      "text/plain": [
       "   000  000 feet  000 feet sky  000 feet worst  000 homes  000 homes missouri  \\\n",
       "0    0         0             0               0          0                   0   \n",
       "1    0         0             0               0          0                   0   \n",
       "2    0         0             0               0          0                   0   \n",
       "3    0         0             0               0          0                   0   \n",
       "4    0         0             0               0          0                   0   \n",
       "\n",
       "   000 workers  07  07 pm  07 pm et            ...             young educated  \\\n",
       "0            0   0      0         0            ...                          0   \n",
       "1            0   0      0         0            ...                          0   \n",
       "2            0   0      0         0            ...                          0   \n",
       "3            0   0      0         0            ...                          0   \n",
       "4            0   0      0         0            ...                          0   \n",
       "\n",
       "   young educated workers  youth venezuela  youth venezuela amid  youtub  \\\n",
       "0                       0                0                     0       0   \n",
       "1                       0                0                     0       0   \n",
       "2                       0                0                     0       0   \n",
       "3                       0                0                     0       0   \n",
       "4                       0                0                     0       0   \n",
       "\n",
       "   youtube launches  youtube launches new  zuckerberg  zuckerberg meet  \\\n",
       "0                 0                     0           0                0   \n",
       "1                 0                     0           0                0   \n",
       "2                 0                     0           0                0   \n",
       "3                 0                     0           0                0   \n",
       "4                 0                     0           0                0   \n",
       "\n",
       "   zuckerberg meet european  \n",
       "0                         0  \n",
       "1                         0  \n",
       "2                         0  \n",
       "3                         0  \n",
       "4                         0  \n",
       "\n",
       "[5 rows x 5987 columns]"
      ]
     },
     "execution_count": 235,
     "metadata": {},
     "output_type": "execute_result"
    }
   ],
   "source": [
    "from sklearn.feature_extraction.text import CountVectorizer\n",
    "from nltk.stem.snowball import EnglishStemmer\n",
    "from nltk.stem.lancaster import LancasterStemmer\n",
    "#       if stemming == 'snowball':\n",
    "#             self.stemmer = _nltk.stem.snowball.EnglishStemmer()\n",
    "#         elif stemming == 'lancaster':\n",
    "#             self.stemmer = _nltk.stem.lancaster.LancasterStemmer()\n",
    "#         elif stemming == 'wordnet':\n",
    "#             self.stemmer = _nltk.stem.wordnetWordNetLemmatizer()\n",
    "\n",
    "analyzer = CountVectorizer(stop_words='english', ngram_range=(1,3)).build_analyzer()\n",
    "stemmer = LancasterStemmer()\n",
    "\n",
    "def stem_words(doc):\n",
    "    return (stemmer.stem(w) for w in analyzer(doc))\n",
    "\n",
    "vect = CountVectorizer(\n",
    "    stop_words='english',\n",
    "    analyzer=stem_words\n",
    ")\n",
    "td = vect.fit_transform(headlines['headline'])\n",
    "td = pd.DataFrame(td.toarray(), columns=vect.get_feature_names(), index=headlines.index)\n",
    "td.head()"
   ]
  },
  {
   "cell_type": "code",
   "execution_count": 236,
   "metadata": {},
   "outputs": [
    {
     "data": {
      "text/plain": [
       "trump    29\n",
       "say      24\n",
       "new      21\n",
       "day      16\n",
       "moth     15\n",
       "dtype: int64"
      ]
     },
     "execution_count": 236,
     "metadata": {},
     "output_type": "execute_result"
    }
   ],
   "source": [
    "td.sum().sort_values(ascending=False).head()"
   ]
  },
  {
   "cell_type": "code",
   "execution_count": 237,
   "metadata": {},
   "outputs": [],
   "source": [
    "lens = td.columns.to_series().str.split().apply(len)\n",
    "twos = lens[lens == 2].index\n",
    "threes = lens[lens == 3].index"
   ]
  },
  {
   "cell_type": "code",
   "execution_count": 238,
   "metadata": {},
   "outputs": [
    {
     "data": {
      "text/plain": [
       "array([['Rushing to Ruin the Boundary Waters Wilderness 11:15 AM ET',\n",
       "        'nyt'],\n",
       "       ['This Is Not Just About Junot Díaz 12:37 PM ET', 'nyt'],\n",
       "       ['College May Not Be Worth It Anymore 10:58 AM ET', 'nyt'],\n",
       "       ['Jane Fonda: Her Husband Beat Her and Raped Her. Jeff Sessions Might Deport Her. 3:16 PM ET',\n",
       "        'nyt'],\n",
       "       ['College May Not Be Worth It Anymore 5:58 PM ET', 'nyt'],\n",
       "       ['Jane Fonda: Her Husband Beat and Raped Her. Jeff Sessions Might Deport Her. 3:16 PM ET',\n",
       "        'nyt'],\n",
       "       ['Jane Fonda: Her Husband Beat and Raped Her. Jeff Sessions Might Deport Her. 6:07 PM ET',\n",
       "        'nyt']], dtype=object)"
      ]
     },
     "execution_count": 238,
     "metadata": {},
     "output_type": "execute_result"
    }
   ],
   "source": [
    "headlines.loc[headlines['headline'].str.contains('\\d:\\d\\d PM|AM')].values\n",
    "# headlines.loc[headlines['headline'].str.contains('Jeff')].values"
   ]
  },
  {
   "cell_type": "code",
   "execution_count": 239,
   "metadata": {},
   "outputs": [
    {
     "data": {
      "text/plain": [
       "array([['Her Husband Beat Her and Raped Her. Jeff Sessions Might Deport Her.',\n",
       "        'nyt'],\n",
       "       ['Jane Fonda: Her Husband Beat Her and Raped Her. Jeff Sessions Might Deport Her. 3:16 PM ET',\n",
       "        'nyt'],\n",
       "       ['Jane Fonda: Her Husband Beat and Raped Her. Jeff Sessions Might Deport Her. 3:16 PM ET',\n",
       "        'nyt'],\n",
       "       ['Jane Fonda: Her Husband Beat and Raped Her. Jeff Sessions Might Deport Her. 6:07 PM ET',\n",
       "        'nyt'],\n",
       "       ['Jane Fonda: Her Husband Beat and Raped Her. Jeff Sessions Might Deport Her.',\n",
       "        'nyt']], dtype=object)"
      ]
     },
     "execution_count": 239,
     "metadata": {},
     "output_type": "execute_result"
    }
   ],
   "source": [
    "headlines.loc[headlines['headline'].str.contains('Jeff')].values"
   ]
  },
  {
   "cell_type": "markdown",
   "metadata": {},
   "source": [
    "Need to strip some time stuff"
   ]
  },
  {
   "cell_type": "code",
   "execution_count": 240,
   "metadata": {},
   "outputs": [
    {
     "data": {
      "text/plain": [
       "<matplotlib.axes._subplots.AxesSubplot at 0x27226278470>"
      ]
     },
     "execution_count": 240,
     "metadata": {},
     "output_type": "execute_result"
    },
    {
     "data": {
      "image/png": "[encoded data removed]",
      "text/plain": [
       "<Figure size 432x288 with 1 Axes>"
      ]
     },
     "metadata": {},
     "output_type": "display_data"
    }
   ],
   "source": [
    "td[twos].sum().sort_values().tail(15).plot(kind='barh')"
   ]
  },
  {
   "cell_type": "code",
   "execution_count": 241,
   "metadata": {},
   "outputs": [
    {
     "data": {
      "text/plain": [
       "array([[\"Cops used sex toy 'Big Blue' to harass co-workers, played game with genitals, lawsuit says\",\n",
       "        'fox'],\n",
       "       ['Seattle Mariners star Robinson Cano suspended 80 games after positive test for banned substance',\n",
       "        'fox'],\n",
       "       ['Camera shakes as earthquake strikes during San Francisco Giants game',\n",
       "        'fox'],\n",
       "       ['First confirmed urban Ebola case is a ‘game changer’ in Congo outbreak',\n",
       "        'wapo']], dtype=object)"
      ]
     },
     "execution_count": 241,
     "metadata": {},
     "output_type": "execute_result"
    }
   ],
   "source": [
    "headlines.loc[headlines['headline'].str.contains('game')].values"
   ]
  },
  {
   "cell_type": "code",
   "execution_count": 244,
   "metadata": {},
   "outputs": [
    {
     "data": {
      "text/plain": [
       "headline    As China Plans Big Concessions on Trade, Some ...\n",
       "pub                                                       nyt\n",
       "Name: 0, dtype: object"
      ]
     },
     "execution_count": 244,
     "metadata": {},
     "output_type": "execute_result"
    }
   ],
   "source": [
    "headlines.loc[0]"
   ]
  },
  {
   "cell_type": "code",
   "execution_count": 248,
   "metadata": {},
   "outputs": [
    {
     "data": {
      "text/plain": [
       "array(['Lightning-Capitals Game 4: Nicklas Backstrom might be back in the lineup',\n",
       "       'Lightning-Capitals Game 4: Nicklas Backstrom is back for Washington',\n",
       "       'Lightning-Capitals Game 4: Bolts surge ahead, 2-1, after Washington gets sloppy',\n",
       "       'Lightning-Capitals Game 4: Washington power-play struggles, Steven Stamkos goal have Tampa up 2-1',\n",
       "       'Lightning-Capitals Game 4: Alex Ovechkin helps Evgeny Kuznetsov tie it at 2',\n",
       "       'Lightning-Capitals Game 4: Evgeny Kuznetsov ties it at 2 as Washington fires barrage at Tampa',\n",
       "       'Lightning-Capitals Game 4: Washington kills key penalty, then yields key goal, trails 3-2'],\n",
       "      dtype=object)"
      ]
     },
     "execution_count": 248,
     "metadata": {},
     "output_type": "execute_result"
    }
   ],
   "source": [
    "headlines.loc[td['lightning capitals game'] > 0].headline.values"
   ]
  },
  {
   "cell_type": "code",
   "execution_count": 250,
   "metadata": {},
   "outputs": [],
   "source": [
    "td['pub'] = headlines['pub']"
   ]
  },
  {
   "cell_type": "code",
   "execution_count": null,
   "metadata": {},
   "outputs": [],
   "source": []
  },
  {
   "cell_type": "code",
   "execution_count": 251,
   "metadata": {},
   "outputs": [
    {
     "data": {
      "text/plain": [
       "<matplotlib.axes._subplots.AxesSubplot at 0x272276a7e48>"
      ]
     },
     "execution_count": 251,
     "metadata": {},
     "output_type": "execute_result"
    },
    {
     "data": {
      "image/png": "[encoded data removed]",
      "text/plain": [
       "<Figure size 432x288 with 1 Axes>"
      ]
     },
     "metadata": {},
     "output_type": "display_data"
    }
   ],
   "source": [
    "td.loc[td['pub'] == 'fox', threes].sum().sort_values().tail(15).plot(kind='barh')"
   ]
  },
  {
   "cell_type": "code",
   "execution_count": 252,
   "metadata": {},
   "outputs": [
    {
     "data": {
      "text/plain": [
       "<matplotlib.axes._subplots.AxesSubplot at 0x2722762c668>"
      ]
     },
     "execution_count": 252,
     "metadata": {},
     "output_type": "execute_result"
    },
    {
     "data": {
      "image/png": "[encoded data removed]",
      "text/plain": [
       "<Figure size 432x288 with 1 Axes>"
      ]
     },
     "metadata": {},
     "output_type": "display_data"
    }
   ],
   "source": [
    "td.loc[td['pub'] == 'nyt', threes].sum().sort_values().tail(15).plot(kind='barh')"
   ]
  },
  {
   "cell_type": "code",
   "execution_count": 253,
   "metadata": {},
   "outputs": [
    {
     "data": {
      "text/plain": [
       "<matplotlib.axes._subplots.AxesSubplot at 0x272286b5fd0>"
      ]
     },
     "execution_count": 253,
     "metadata": {},
     "output_type": "execute_result"
    },
    {
     "data": {
      "image/png": "[encoded data removed]",
      "text/plain": [
       "<Figure size 432x288 with 1 Axes>"
      ]
     },
     "metadata": {},
     "output_type": "display_data"
    }
   ],
   "source": [
    "td.loc[td['pub'] == 'wapo', threes].sum().sort_values().tail(15).plot(kind='barh')"
   ]
  },
  {
   "cell_type": "markdown",
   "metadata": {},
   "source": [
    "Should we narrow it down only to politics?"
   ]
  },
  {
   "cell_type": "markdown",
   "metadata": {},
   "source": [
    "Need to stop stemming names"
   ]
  },
  {
   "cell_type": "code",
   "execution_count": 179,
   "metadata": {},
   "outputs": [
    {
     "data": {
      "text/plain": [
       "<matplotlib.axes._subplots.AxesSubplot at 0x2721f6c3780>"
      ]
     },
     "execution_count": 179,
     "metadata": {},
     "output_type": "execute_result"
    },
    {
     "data": {
      "image/png": "[encoded data removed]",
      "text/plain": [
       "<Figure size 432x288 with 1 Axes>"
      ]
     },
     "metadata": {},
     "output_type": "display_data"
    }
   ],
   "source": [
    "td.sum().sort_values().tail(15).plot(kind='barh')"
   ]
  },
  {
   "cell_type": "code",
   "execution_count": 174,
   "metadata": {},
   "outputs": [
    {
     "data": {
      "image/png": "[encoded data removed]",
      "text/plain": [
       "<Figure size 420x360 with 1 Axes>"
      ]
     },
     "metadata": {},
     "output_type": "display_data"
    }
   ],
   "source": [
    "import matplotlib.pyplot as plt\n",
    "import seaborn as sns\n",
    "sns.set()\n",
    "%matplotlib inline\n",
    "import numpy as np\n",
    "from sklearn.manifold import Isomap\n",
    "from sklearn.preprocessing import StandardScaler\n",
    "\n",
    "\n",
    "iso = Isomap(n_components=2)\n",
    "scaler = StandardScaler(with_mean=True, with_std=True)\n",
    "coords = iso.fit_transform(scaler.fit_transform(td))\n",
    "\n",
    "chartdata = pd.DataFrame(np.concatenate([coords, headlines['pub'].values.reshape((414,1))], axis=1), index=headlines.index)\n",
    "chartdata.loc[:, 0] = chartdata[0].astype(float)\n",
    "chartdata.loc[:, 1] = chartdata[1].astype(float)\n",
    "chartdata.columns = ['x', 'y', 'pub']\n",
    "\n",
    "ax = sns.lmplot(data=chartdata, x='x',y='y', fit_reg=False, hue='pub')\n",
    "# ax.set(xlim=[-20,20], ylim=[-10,10])"
   ]
  },
  {
   "cell_type": "code",
   "execution_count": 165,
   "metadata": {},
   "outputs": [
    {
     "data": {
      "text/plain": [
       "array([\"Prince's Turks and Caicos estate heading to auction\",\n",
       "       'North Korea Threats Are ‘Splash of Cold Water’ Ahead of Talks',\n",
       "       'Starbucks teams with patriotic bakery that trains injured veterans',\n",
       "       '$800,000 Homes in Missouri, Georgia and Pennsylvania',\n",
       "       \"14-year-old hunter's encounter with bear cub goes viral\",\n",
       "       \"'Cute puppy' brought into Illinois police station turns out to be coyote\",\n",
       "       'Senate defeats Rand Paul’s balanced-budget plan as he accuses GOP of ‘unholy alliance’ with Democrats on spending',\n",
       "       'California man caught breakdancing on video after breaking into building, police say',\n",
       "       'F.D.A. Names and Shames Drug Makers to Encourage Generic Competition',\n",
       "       'US stock indexes edge lower in afternoon trading; oil rising'],\n",
       "      dtype=object)"
      ]
     },
     "execution_count": 165,
     "metadata": {},
     "output_type": "execute_result"
    }
   ],
   "source": [
    "headlines.loc[(chartdata['x'] < 0) & (chartdata['y'] < 2.5) & (chartdata['y'] > -5)].sample(10, random_state=42)['headline'].values"
   ]
  },
  {
   "cell_type": "code",
   "execution_count": 164,
   "metadata": {},
   "outputs": [
    {
     "data": {
      "text/plain": [
       "array(['Pentagon releases video showing the recovery of a U.S. soldier’s remains in Niger',\n",
       "       \"Moving? Here's 5 things you can't take after selling your home\",\n",
       "       'Cops focus on teen boy previously caught with Pennsylvania teacher in steamed-up car in murder investigation',\n",
       "       'A royal wedding can be a royal pain -- Here are some helpful ways to ‘negotiate’ your own wedding preparations',\n",
       "       'Mike Slive, influential Southeastern Conference commissioner, dies at 77',\n",
       "       'On the Market: Homes for Sale on the North Fork and Shelter Island',\n",
       "       'Yanny or Laurel? Internet split on what name they hear in audio clip',\n",
       "       'Manafort judge who ripped Special Counsel Mueller’s team obtains ‘scope’ memo',\n",
       "       'Fears of Larger Contagion as Ebola Spreads to Major Congo City',\n",
       "       'Pentagon releases video depicting recovery of U.S. soldiers’ remains in Niger'],\n",
       "      dtype=object)"
      ]
     },
     "execution_count": 164,
     "metadata": {},
     "output_type": "execute_result"
    }
   ],
   "source": [
    "headlines.loc[chartdata['x'] > 0].sample(10, random_state=42)['headline'].values"
   ]
  },
  {
   "cell_type": "code",
   "execution_count": 158,
   "metadata": {},
   "outputs": [
    {
     "data": {
      "text/plain": [
       "array(['Jane Fonda: Her Husband Beat and Raped Her. Jeff Sessions Might Deport Her. 6:07 PM ET'],\n",
       "      dtype=object)"
      ]
     },
     "execution_count": 158,
     "metadata": {},
     "output_type": "execute_result"
    }
   ],
   "source": [
    "headlines.loc[chartdata['y'] < -40]['headline'].values"
   ]
  },
  {
   "cell_type": "code",
   "execution_count": 155,
   "metadata": {},
   "outputs": [
    {
     "data": {
      "text/html": [
       "<div>\n",
       "<style scoped>\n",
       "    .dataframe tbody tr th:only-of-type {\n",
       "        vertical-align: middle;\n",
       "    }\n",
       "\n",
       "    .dataframe tbody tr th {\n",
       "        vertical-align: top;\n",
       "    }\n",
       "\n",
       "    .dataframe thead th {\n",
       "        text-align: right;\n",
       "    }\n",
       "</style>\n",
       "<table border=\"1\" class=\"dataframe\">\n",
       "  <thead>\n",
       "    <tr style=\"text-align: right;\">\n",
       "      <th></th>\n",
       "      <th>headline</th>\n",
       "      <th>pub</th>\n",
       "      <th>len</th>\n",
       "    </tr>\n",
       "    <tr>\n",
       "      <th>index</th>\n",
       "      <th></th>\n",
       "      <th></th>\n",
       "      <th></th>\n",
       "    </tr>\n",
       "  </thead>\n",
       "  <tbody>\n",
       "    <tr>\n",
       "      <th>31</th>\n",
       "      <td>‘I’m Here With You, Mate’</td>\n",
       "      <td>nyt</td>\n",
       "      <td>5</td>\n",
       "    </tr>\n",
       "  </tbody>\n",
       "</table>\n",
       "</div>"
      ],
      "text/plain": [
       "                        headline  pub  len\n",
       "index                                     \n",
       "31     ‘I’m Here With You, Mate’  nyt    5"
      ]
     },
     "execution_count": 155,
     "metadata": {},
     "output_type": "execute_result"
    }
   ],
   "source": [
    "headlines.loc[chartdata['x'] > 60]"
   ]
  },
  {
   "cell_type": "code",
   "execution_count": 87,
   "metadata": {},
   "outputs": [],
   "source": [
    "headlines['len'] = headlines['headline'].str.split().apply(len)"
   ]
  },
  {
   "cell_type": "code",
   "execution_count": 89,
   "metadata": {},
   "outputs": [
    {
     "data": {
      "text/plain": [
       "<matplotlib.axes._subplots.AxesSubplot at 0x2721d728048>"
      ]
     },
     "execution_count": 89,
     "metadata": {},
     "output_type": "execute_result"
    },
    {
     "data": {
      "image/png": "[encoded data removed]",
      "text/plain": [
       "<Figure size 432x288 with 1 Axes>"
      ]
     },
     "metadata": {},
     "output_type": "display_data"
    }
   ],
   "source": [
    "sns.boxplot(headlines['len'])"
   ]
  },
  {
   "cell_type": "code",
   "execution_count": 90,
   "metadata": {},
   "outputs": [
    {
     "name": "stderr",
     "output_type": "stream",
     "text": [
      "C:\\Anaconda3\\envs\\media\\lib\\site-packages\\matplotlib\\axes\\_axes.py:6462: UserWarning: The 'normed' kwarg is deprecated, and has been replaced by the 'density' kwarg.\n",
      "  warnings.warn(\"The 'normed' kwarg is deprecated, and has been \"\n"
     ]
    },
    {
     "data": {
      "text/plain": [
       "<matplotlib.axes._subplots.AxesSubplot at 0x2721d60eb38>"
      ]
     },
     "execution_count": 90,
     "metadata": {},
     "output_type": "execute_result"
    },
    {
     "data": {
      "image/png": "[encoded data removed]",
      "text/plain": [
       "<Figure size 432x288 with 1 Axes>"
      ]
     },
     "metadata": {},
     "output_type": "display_data"
    }
   ],
   "source": [
    "sns.distplot(headlines['len'])"
   ]
  },
  {
   "cell_type": "code",
   "execution_count": 97,
   "metadata": {},
   "outputs": [
    {
     "data": {
      "image/png": "[encoded data removed]",
      "text/plain": [
       "<Figure size 432x288 with 1 Axes>"
      ]
     },
     "metadata": {},
     "output_type": "display_data"
    }
   ],
   "source": [
    "import scipy.stats as stats\n",
    "stats.probplot(headlines['len'], dist=\"norm\", plot=plt);"
   ]
  },
  {
   "cell_type": "code",
   "execution_count": 98,
   "metadata": {},
   "outputs": [
    {
     "data": {
      "text/plain": [
       "NormaltestResult(statistic=28.13567629666528, pvalue=7.769901618795215e-07)"
      ]
     },
     "execution_count": 98,
     "metadata": {},
     "output_type": "execute_result"
    }
   ],
   "source": [
    "stats.normaltest(headlines['len'], axis=0, nan_policy='propagate')"
   ]
  },
  {
   "cell_type": "code",
   "execution_count": 99,
   "metadata": {},
   "outputs": [
    {
     "name": "stderr",
     "output_type": "stream",
     "text": [
      "C:\\Anaconda3\\envs\\media\\lib\\site-packages\\matplotlib\\axes\\_axes.py:6462: UserWarning: The 'normed' kwarg is deprecated, and has been replaced by the 'density' kwarg.\n",
      "  warnings.warn(\"The 'normed' kwarg is deprecated, and has been \"\n"
     ]
    },
    {
     "data": {
      "text/plain": [
       "<seaborn.axisgrid.FacetGrid at 0x2721eaa2f98>"
      ]
     },
     "execution_count": 99,
     "metadata": {},
     "output_type": "execute_result"
    },
    {
     "data": {
      "image/png": "[encoded data removed]",
      "text/plain": [
       "<Figure size 648x216 with 3 Axes>"
      ]
     },
     "metadata": {},
     "output_type": "display_data"
    }
   ],
   "source": [
    "g = sns.FacetGrid(col='pub', data=headlines, sharex=True, sharey=True)\n",
    "g.map(sns.distplot, 'len')"
   ]
  },
  {
   "cell_type": "code",
   "execution_count": 100,
   "metadata": {},
   "outputs": [
    {
     "name": "stderr",
     "output_type": "stream",
     "text": [
      "C:\\Anaconda3\\envs\\media\\lib\\site-packages\\seaborn\\axisgrid.py:703: UserWarning: Using the boxplot function without specifying `order` is likely to produce an incorrect plot.\n",
      "  warnings.warn(warning)\n"
     ]
    },
    {
     "data": {
      "text/plain": [
       "<seaborn.axisgrid.FacetGrid at 0x2721ed08fd0>"
      ]
     },
     "execution_count": 100,
     "metadata": {},
     "output_type": "execute_result"
    },
    {
     "data": {
      "image/png": "[encoded data removed]",
      "text/plain": [
       "<Figure size 648x216 with 3 Axes>"
      ]
     },
     "metadata": {},
     "output_type": "display_data"
    }
   ],
   "source": [
    "g = sns.FacetGrid(col='pub', data=headlines, sharex=True, sharey=True)\n",
    "g.map(sns.boxplot, 'len')"
   ]
  },
  {
   "cell_type": "code",
   "execution_count": 106,
   "metadata": {},
   "outputs": [
    {
     "data": {
      "text/plain": [
       "<matplotlib.axes._subplots.AxesSubplot at 0x2721ebee2b0>"
      ]
     },
     "execution_count": 106,
     "metadata": {},
     "output_type": "execute_result"
    },
    {
     "data": {
      "image/png": "[encoded data removed]",
      "text/plain": [
       "<Figure size 432x288 with 1 Axes>"
      ]
     },
     "metadata": {},
     "output_type": "display_data"
    }
   ],
   "source": [
    "headlines.groupby('pub').median()['len'].plot(kind='bar', title='median_len')"
   ]
  },
  {
   "cell_type": "code",
   "execution_count": 105,
   "metadata": {},
   "outputs": [
    {
     "data": {
      "text/plain": [
       "<matplotlib.axes._subplots.AxesSubplot at 0x2721f003278>"
      ]
     },
     "execution_count": 105,
     "metadata": {},
     "output_type": "execute_result"
    },
    {
     "data": {
      "image/png": "[encoded data removed]",
      "text/plain": [
       "<Figure size 432x288 with 1 Axes>"
      ]
     },
     "metadata": {},
     "output_type": "display_data"
    }
   ],
   "source": [
    "headlines.groupby('pub').count()['len'].plot(kind='bar', title='counts')"
   ]
  },
  {
   "cell_type": "markdown",
   "metadata": {},
   "source": [
    "parts of speech"
   ]
  },
  {
   "cell_type": "code",
   "execution_count": 269,
   "metadata": {},
   "outputs": [
    {
     "data": {
      "text/html": [
       "<div>\n",
       "<style scoped>\n",
       "    .dataframe tbody tr th:only-of-type {\n",
       "        vertical-align: middle;\n",
       "    }\n",
       "\n",
       "    .dataframe tbody tr th {\n",
       "        vertical-align: top;\n",
       "    }\n",
       "\n",
       "    .dataframe thead th {\n",
       "        text-align: right;\n",
       "    }\n",
       "</style>\n",
       "<table border=\"1\" class=\"dataframe\">\n",
       "  <thead>\n",
       "    <tr style=\"text-align: right;\">\n",
       "      <th></th>\n",
       "      <th>#</th>\n",
       "      <th>$</th>\n",
       "      <th>''</th>\n",
       "      <th>(</th>\n",
       "      <th>)</th>\n",
       "      <th>,</th>\n",
       "      <th>.</th>\n",
       "      <th>:</th>\n",
       "      <th>CC</th>\n",
       "      <th>CD</th>\n",
       "      <th>...</th>\n",
       "      <th>TO</th>\n",
       "      <th>VB</th>\n",
       "      <th>VBD</th>\n",
       "      <th>VBG</th>\n",
       "      <th>VBN</th>\n",
       "      <th>VBP</th>\n",
       "      <th>VBZ</th>\n",
       "      <th>WDT</th>\n",
       "      <th>WP</th>\n",
       "      <th>WRB</th>\n",
       "    </tr>\n",
       "  </thead>\n",
       "  <tbody>\n",
       "    <tr>\n",
       "      <th>0</th>\n",
       "      <td>0.0</td>\n",
       "      <td>0.0</td>\n",
       "      <td>0.0</td>\n",
       "      <td>0.0</td>\n",
       "      <td>0.0</td>\n",
       "      <td>1.0</td>\n",
       "      <td>0.0</td>\n",
       "      <td>0.0</td>\n",
       "      <td>0.0</td>\n",
       "      <td>0.0</td>\n",
       "      <td>...</td>\n",
       "      <td>0.0</td>\n",
       "      <td>0.0</td>\n",
       "      <td>0.0</td>\n",
       "      <td>0.0</td>\n",
       "      <td>0.0</td>\n",
       "      <td>0.0</td>\n",
       "      <td>0.0</td>\n",
       "      <td>0.0</td>\n",
       "      <td>0.0</td>\n",
       "      <td>0.0</td>\n",
       "    </tr>\n",
       "    <tr>\n",
       "      <th>1</th>\n",
       "      <td>0.0</td>\n",
       "      <td>0.0</td>\n",
       "      <td>0.0</td>\n",
       "      <td>0.0</td>\n",
       "      <td>0.0</td>\n",
       "      <td>2.0</td>\n",
       "      <td>0.0</td>\n",
       "      <td>0.0</td>\n",
       "      <td>0.0</td>\n",
       "      <td>0.0</td>\n",
       "      <td>...</td>\n",
       "      <td>0.0</td>\n",
       "      <td>0.0</td>\n",
       "      <td>0.0</td>\n",
       "      <td>1.0</td>\n",
       "      <td>0.0</td>\n",
       "      <td>0.0</td>\n",
       "      <td>0.0</td>\n",
       "      <td>0.0</td>\n",
       "      <td>0.0</td>\n",
       "      <td>0.0</td>\n",
       "    </tr>\n",
       "    <tr>\n",
       "      <th>2</th>\n",
       "      <td>0.0</td>\n",
       "      <td>0.0</td>\n",
       "      <td>0.0</td>\n",
       "      <td>0.0</td>\n",
       "      <td>0.0</td>\n",
       "      <td>0.0</td>\n",
       "      <td>0.0</td>\n",
       "      <td>0.0</td>\n",
       "      <td>0.0</td>\n",
       "      <td>0.0</td>\n",
       "      <td>...</td>\n",
       "      <td>1.0</td>\n",
       "      <td>1.0</td>\n",
       "      <td>0.0</td>\n",
       "      <td>0.0</td>\n",
       "      <td>0.0</td>\n",
       "      <td>0.0</td>\n",
       "      <td>0.0</td>\n",
       "      <td>0.0</td>\n",
       "      <td>0.0</td>\n",
       "      <td>0.0</td>\n",
       "    </tr>\n",
       "    <tr>\n",
       "      <th>3</th>\n",
       "      <td>0.0</td>\n",
       "      <td>0.0</td>\n",
       "      <td>0.0</td>\n",
       "      <td>0.0</td>\n",
       "      <td>0.0</td>\n",
       "      <td>1.0</td>\n",
       "      <td>0.0</td>\n",
       "      <td>0.0</td>\n",
       "      <td>0.0</td>\n",
       "      <td>0.0</td>\n",
       "      <td>...</td>\n",
       "      <td>0.0</td>\n",
       "      <td>0.0</td>\n",
       "      <td>1.0</td>\n",
       "      <td>1.0</td>\n",
       "      <td>0.0</td>\n",
       "      <td>0.0</td>\n",
       "      <td>0.0</td>\n",
       "      <td>0.0</td>\n",
       "      <td>0.0</td>\n",
       "      <td>0.0</td>\n",
       "    </tr>\n",
       "    <tr>\n",
       "      <th>4</th>\n",
       "      <td>0.0</td>\n",
       "      <td>0.0</td>\n",
       "      <td>0.0</td>\n",
       "      <td>0.0</td>\n",
       "      <td>0.0</td>\n",
       "      <td>1.0</td>\n",
       "      <td>0.0</td>\n",
       "      <td>0.0</td>\n",
       "      <td>0.0</td>\n",
       "      <td>0.0</td>\n",
       "      <td>...</td>\n",
       "      <td>0.0</td>\n",
       "      <td>0.0</td>\n",
       "      <td>0.0</td>\n",
       "      <td>1.0</td>\n",
       "      <td>0.0</td>\n",
       "      <td>1.0</td>\n",
       "      <td>0.0</td>\n",
       "      <td>0.0</td>\n",
       "      <td>0.0</td>\n",
       "      <td>0.0</td>\n",
       "    </tr>\n",
       "  </tbody>\n",
       "</table>\n",
       "<p>5 rows × 39 columns</p>\n",
       "</div>"
      ],
      "text/plain": [
       "     #    $   ''    (    )    ,    .    :   CC   CD ...    TO   VB  VBD  VBG  \\\n",
       "0  0.0  0.0  0.0  0.0  0.0  1.0  0.0  0.0  0.0  0.0 ...   0.0  0.0  0.0  0.0   \n",
       "1  0.0  0.0  0.0  0.0  0.0  2.0  0.0  0.0  0.0  0.0 ...   0.0  0.0  0.0  1.0   \n",
       "2  0.0  0.0  0.0  0.0  0.0  0.0  0.0  0.0  0.0  0.0 ...   1.0  1.0  0.0  0.0   \n",
       "3  0.0  0.0  0.0  0.0  0.0  1.0  0.0  0.0  0.0  0.0 ...   0.0  0.0  1.0  1.0   \n",
       "4  0.0  0.0  0.0  0.0  0.0  1.0  0.0  0.0  0.0  0.0 ...   0.0  0.0  0.0  1.0   \n",
       "\n",
       "   VBN  VBP  VBZ  WDT   WP  WRB  \n",
       "0  0.0  0.0  0.0  0.0  0.0  0.0  \n",
       "1  0.0  0.0  0.0  0.0  0.0  0.0  \n",
       "2  0.0  0.0  0.0  0.0  0.0  0.0  \n",
       "3  0.0  0.0  0.0  0.0  0.0  0.0  \n",
       "4  0.0  1.0  0.0  0.0  0.0  0.0  \n",
       "\n",
       "[5 rows x 39 columns]"
      ]
     },
     "execution_count": 269,
     "metadata": {},
     "output_type": "execute_result"
    }
   ],
   "source": [
    "import nltk\n",
    "def pos_tag(doc):\n",
    "    tokenized = nltk.word_tokenize(doc)\n",
    "    tagged = nltk.pos_tag(tokenized)\n",
    "    pos = [x[1] for x in tagged]\n",
    "    return pd.Series(pos).value_counts()\n",
    "\n",
    "pos_counts = headlines['headline'].apply(pos_tag).fillna(0)\n",
    "pos_counts.head()"
   ]
  },
  {
   "cell_type": "code",
   "execution_count": 272,
   "metadata": {},
   "outputs": [
    {
     "data": {
      "text/plain": [
       "<matplotlib.axes._subplots.AxesSubplot at 0x2722a260b00>"
      ]
     },
     "execution_count": 272,
     "metadata": {},
     "output_type": "execute_result"
    },
    {
     "data": {
      "image/png": "[encoded data removed]",
      "text/plain": [
       "<Figure size 432x288 with 1 Axes>"
      ]
     },
     "metadata": {},
     "output_type": "display_data"
    }
   ],
   "source": [
    "pos_counts.loc[headlines['pub']=='fox'].sum().sort_values().tail(15).plot(kind='barh')"
   ]
  },
  {
   "cell_type": "code",
   "execution_count": 273,
   "metadata": {},
   "outputs": [
    {
     "data": {
      "text/plain": [
       "<matplotlib.axes._subplots.AxesSubplot at 0x2722ad8c048>"
      ]
     },
     "execution_count": 273,
     "metadata": {},
     "output_type": "execute_result"
    },
    {
     "data": {
      "image/png": "[encoded data removed]",
      "text/plain": [
       "<Figure size 432x288 with 1 Axes>"
      ]
     },
     "metadata": {},
     "output_type": "display_data"
    }
   ],
   "source": [
    "pos_counts.loc[headlines['pub']=='nyt'].sum().sort_values().tail(15).plot(kind='barh')"
   ]
  },
  {
   "cell_type": "code",
   "execution_count": 274,
   "metadata": {},
   "outputs": [
    {
     "data": {
      "text/plain": [
       "<matplotlib.axes._subplots.AxesSubplot at 0x2722ae12b38>"
      ]
     },
     "execution_count": 274,
     "metadata": {},
     "output_type": "execute_result"
    },
    {
     "data": {
      "image/png": "[encoded data removed]",
      "text/plain": [
       "<Figure size 432x288 with 1 Axes>"
      ]
     },
     "metadata": {},
     "output_type": "display_data"
    }
   ],
   "source": [
    "pos_counts.loc[headlines['pub']=='wapo'].sum().sort_values().tail(15).plot(kind='barh')"
   ]
  },
  {
   "cell_type": "code",
   "execution_count": 263,
   "metadata": {},
   "outputs": [
    {
     "data": {
      "text/plain": [
       "['NN', ',', 'VBG', 'NN', 'IN', 'NN', 'IN', 'NN', ',', 'VBZ', 'JJ', 'NN', 'NN']"
      ]
     },
     "execution_count": 263,
     "metadata": {},
     "output_type": "execute_result"
    }
   ],
   "source": [
    "[x[1] for x in tagged]"
   ]
  },
  {
   "cell_type": "code",
   "execution_count": 262,
   "metadata": {},
   "outputs": [
    {
     "data": {
      "text/plain": [
       "\u001b[1;31mSignature:\u001b[0m \u001b[0mnltk\u001b[0m\u001b[1;33m.\u001b[0m\u001b[0mpos_tag\u001b[0m\u001b[1;33m(\u001b[0m\u001b[0mtokens\u001b[0m\u001b[1;33m,\u001b[0m \u001b[0mtagset\u001b[0m\u001b[1;33m=\u001b[0m\u001b[1;32mNone\u001b[0m\u001b[1;33m,\u001b[0m \u001b[0mlang\u001b[0m\u001b[1;33m=\u001b[0m\u001b[1;34m'eng'\u001b[0m\u001b[1;33m)\u001b[0m\u001b[1;33m\u001b[0m\u001b[0m\n",
       "\u001b[1;31mDocstring:\u001b[0m\n",
       "Use NLTK's currently recommended part of speech tagger to\n",
       "tag the given list of tokens.\n",
       "\n",
       "    >>> from nltk.tag import pos_tag\n",
       "    >>> from nltk.tokenize import word_tokenize\n",
       "    >>> pos_tag(word_tokenize(\"John's big idea isn't all that bad.\"))\n",
       "    [('John', 'NNP'), (\"'s\", 'POS'), ('big', 'JJ'), ('idea', 'NN'), ('is', 'VBZ'),\n",
       "    (\"n't\", 'RB'), ('all', 'PDT'), ('that', 'DT'), ('bad', 'JJ'), ('.', '.')]\n",
       "    >>> pos_tag(word_tokenize(\"John's big idea isn't all that bad.\"), tagset='universal')\n",
       "    [('John', 'NOUN'), (\"'s\", 'PRT'), ('big', 'ADJ'), ('idea', 'NOUN'), ('is', 'VERB'),\n",
       "    (\"n't\", 'ADV'), ('all', 'DET'), ('that', 'DET'), ('bad', 'ADJ'), ('.', '.')]\n",
       "\n",
       "NB. Use `pos_tag_sents()` for efficient tagging of more than one sentence.\n",
       "\n",
       ":param tokens: Sequence of tokens to be tagged\n",
       ":type tokens: list(str)\n",
       ":param tagset: the tagset to be used, e.g. universal, wsj, brown\n",
       ":type tagset: str\n",
       ":param lang: the ISO 639 code of the language, e.g. 'eng' for English, 'rus' for Russian\n",
       ":type lang: str\n",
       ":return: The tagged tokens\n",
       ":rtype: list(tuple(str, str))\n",
       "\u001b[1;31mFile:\u001b[0m      c:\\anaconda3\\envs\\media\\lib\\site-packages\\nltk\\tag\\__init__.py\n",
       "\u001b[1;31mType:\u001b[0m      function\n"
      ]
     },
     "metadata": {},
     "output_type": "display_data"
    }
   ],
   "source": [
    "nltk.pos_tag?"
   ]
  },
  {
   "cell_type": "code",
   "execution_count": null,
   "metadata": {},
   "outputs": [],
   "source": []
  }
 ],
 "metadata": {
  "kernelspec": {
   "display_name": "Python 3",
   "language": "python",
   "name": "python3"
  },
  "language_info": {
   "codemirror_mode": {
    "name": "ipython",
    "version": 3
   },
   "file_extension": ".py",
   "mimetype": "text/x-python",
   "name": "python",
   "nbconvert_exporter": "python",
   "pygments_lexer": "ipython3",
   "version": "3.6.5"
  }
 },
 "nbformat": 4,
 "nbformat_minor": 2
}
